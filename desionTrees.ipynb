{
  "nbformat": 4,
  "nbformat_minor": 0,
  "metadata": {
    "colab": {
      "provenance": [],
      "authorship_tag": "ABX9TyMUO8SB3Nhjy5yoB88FTZTo",
      "include_colab_link": true
    },
    "kernelspec": {
      "name": "python3",
      "display_name": "Python 3"
    },
    "language_info": {
      "name": "python"
    }
  },
  "cells": [
    {
      "cell_type": "markdown",
      "metadata": {
        "id": "view-in-github",
        "colab_type": "text"
      },
      "source": [
        "<a href=\"https://colab.research.google.com/github/Mokshith2592/DecisionTrees/blob/main/desionTrees.ipynb\" target=\"_parent\"><img src=\"https://colab.research.google.com/assets/colab-badge.svg\" alt=\"Open In Colab\"/></a>"
      ]
    },
    {
      "cell_type": "code",
      "execution_count": 6,
      "metadata": {
        "id": "vioSRW1P5fy-"
      },
      "outputs": [],
      "source": [
        "import pandas as pd\n",
        "import numpy as np\n",
        "from collections import Counter"
      ]
    },
    {
      "cell_type": "code",
      "source": [
        "from sklearn.model_selection import train_test_split\n",
        "from sklearn import datasets"
      ],
      "metadata": {
        "id": "6NiR4_zJ0geg"
      },
      "execution_count": 14,
      "outputs": []
    },
    {
      "cell_type": "code",
      "source": [
        "class Node:\n",
        "    def __init__(self, feature=None, threshold=None, left=None, right=None, *, value=None):\n",
        "        self.feature = feature\n",
        "        self.threshold = threshold\n",
        "        self.value = value\n",
        "        self.left = left\n",
        "        self.right = right\n",
        "\n",
        "    def is_leaf_node(self):\n",
        "        return self.value is not None"
      ],
      "metadata": {
        "id": "tAIYloit-sz0"
      },
      "execution_count": 52,
      "outputs": []
    },
    {
      "cell_type": "code",
      "source": [
        "class DecisionTree:\n",
        "    def __init__(self ,min_samples_split=2 ,max_depth=100 ,n_features=None):\n",
        "        self.min_samples_split = min_samples_split\n",
        "        self.max_depth = max_depth\n",
        "        self.n_features = n_features\n",
        "        self.root = None\n",
        "\n",
        "    def fit(self ,X ,Y):\n",
        "        self.n_features = X.shape[1] if not self.n_features else min(X.shape[1] ,self.n_features)\n",
        "        self.root = self.grow_tree(X ,Y)\n",
        "\n",
        "    def grow_tree(self ,X ,Y ,depth = 0):\n",
        "        n_samples ,n_feats = X.shape\n",
        "        n_labels = len(np.unique(Y))\n",
        "\n",
        "        #check the stopping criteria\n",
        "        if(depth >= self.max_depth or n_labels == 1 or n_samples < self.min_samples_split):\n",
        "            leaf_val = self._most_common_label(Y)\n",
        "            return Node(value = leaf_val)\n",
        "\n",
        "        #find the best split\n",
        "        feat_idxs = np.random.choice(n_feats ,self.n_features ,replace=False)\n",
        "        best_feature ,best_thresh = self._best_split(X ,Y ,feat_idxs)\n",
        "\n",
        "        #create child nodes\n",
        "        left_idxs ,right_idxs = self._split(X[: ,best_feature] ,best_thresh)\n",
        "        left = self.grow_tree(X[left_idxs ,:] ,Y[left_idxs] ,depth + 1)\n",
        "        right = self.grow_tree(X[right_idxs ,:] ,Y[right_idxs] ,depth + 1)\n",
        "\n",
        "        return Node(best_feature ,best_thresh ,left ,right)\n",
        "\n",
        "    def _best_split(self ,X ,Y ,feat_idxs):\n",
        "        best_gain = -1\n",
        "        split_idx ,split_threshold = None ,None\n",
        "\n",
        "        for feat_idx in feat_idxs:\n",
        "            X_column = X[: ,feat_idx]\n",
        "            thresholds = np.unique(X_column)\n",
        "\n",
        "            for thr in thresholds:\n",
        "                gain = self._information_gain(Y ,X_column ,thr)\n",
        "\n",
        "                if gain > best_gain:\n",
        "                    best_gain = gain\n",
        "                    split_idx = feat_idx\n",
        "                    split_threshold = thr\n",
        "\n",
        "        return split_idx ,split_threshold\n",
        "\n",
        "    def _information_gain(self ,Y ,X_column ,threshold):\n",
        "        #parent Entropy\n",
        "        parent_entropy = self._entropy(Y)\n",
        "\n",
        "        #create children\n",
        "        left_idx ,right_idx = self._split(X_column ,threshold)\n",
        "\n",
        "        if len(left_idx) == 0 or len(right_idx) == 0:\n",
        "            return 0\n",
        "\n",
        "        #calculate the weighted avg entropy of children\n",
        "        n = len(Y)\n",
        "        n_l ,n_r = len(left_idx) ,len(right_idx)\n",
        "\n",
        "        e_l ,e_r = self._entropy(Y[left_idx]) ,self._entropy(Y[right_idx])\n",
        "        child_entropy = (n_l/n) * e_l + (n_r/n) * e_r\n",
        "\n",
        "        #calculate the IG\n",
        "        return parent_entropy - child_entropy\n",
        "\n",
        "    def _split(self ,X_column ,threshold):\n",
        "        left_idxs = np.argwhere(X_column <= threshold).flatten()\n",
        "        right_idxs = np.argwhere(X_column > threshold).flatten()\n",
        "\n",
        "        return left_idxs ,right_idxs\n",
        "\n",
        "    def _entropy(self ,Y):\n",
        "        hist = np.bincount(Y)\n",
        "        ps = hist / len(Y)\n",
        "\n",
        "        return -np.sum([p * np.log2(p) for p in ps if p > 0])\n",
        "\n",
        "    def _most_common_label(self ,Y):\n",
        "        counter = Counter(Y)\n",
        "        value = counter.most_common(1)[0][0]\n",
        "        return value\n",
        "\n",
        "    def predict(self ,X):\n",
        "        return np.array([self._traverse_tree(x ,self.root) for x in X])\n",
        "\n",
        "    def _traverse_tree(self ,x ,node):\n",
        "        if node.is_leaf_node():\n",
        "            return node.value\n",
        "\n",
        "        if x[node.feature] <= node.threshold:\n",
        "            return self._traverse_tree(x ,node.left)\n",
        "\n",
        "        return self._traverse_tree(x ,node.right)"
      ],
      "metadata": {
        "id": "e6r8PBIjlfjX"
      },
      "execution_count": 31,
      "outputs": []
    },
    {
      "cell_type": "code",
      "source": [
        "#testing\n",
        "data = datasets.load_breast_cancer()\n",
        "x ,y = data.data ,data.target\n",
        "\n",
        "x_train ,x_test ,y_train ,y_test = train_test_split(\n",
        "    x ,y ,test_size = 0.2 ,random_state = 1234\n",
        ")\n",
        "\n",
        "clf = DecisionTree(max_depth=15)\n",
        "clf.fit(x_train ,y_train)\n",
        "\n",
        "predictions = clf.predict(x_test)"
      ],
      "metadata": {
        "id": "kb8nj5t3p-4H"
      },
      "execution_count": 50,
      "outputs": []
    },
    {
      "cell_type": "code",
      "source": [
        "def accuracy(y_test ,predictions):\n",
        "    return np.sum(y_test == predictions) / len(y_test)\n",
        "\n",
        "acc = accuracy(y_test ,predictions)\n",
        "print(acc)"
      ],
      "metadata": {
        "colab": {
          "base_uri": "https://localhost:8080/"
        },
        "id": "1Cj_hPJS1E1a",
        "outputId": "f969ee44-99e3-42e4-bea1-0f98d636ee27"
      },
      "execution_count": 51,
      "outputs": [
        {
          "output_type": "stream",
          "name": "stdout",
          "text": [
            "0.9298245614035088\n"
          ]
        }
      ]
    }
  ]
}